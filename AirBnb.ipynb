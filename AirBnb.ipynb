{
 "cells": [
  {
   "cell_type": "markdown",
   "id": "b641521c",
   "metadata": {},
   "source": [
    "## AirBnb"
   ]
  },
  {
   "cell_type": "code",
   "execution_count": 1,
   "id": "671290e6",
   "metadata": {},
   "outputs": [],
   "source": [
    "from __future__ import print_function\n",
    "from ipywidgets import interact, interactive, fixed, interact_manual\n",
    "from IPython.display import display\n",
    "import ipywidgets as widgets"
   ]
  },
  {
   "cell_type": "code",
   "execution_count": 2,
   "id": "7ed2cd8d",
   "metadata": {},
   "outputs": [],
   "source": [
    "# Define Variables\n",
    "roomPrice = 100\n",
    "roomCount = 1\n",
    "aviableDays = 30\n",
    "occupanyRate = 0.6\n",
    "\n",
    "cleaningFee = 50\n",
    "unitBill = 5\n",
    "\n",
    "#Fixed Cost\n",
    "rent = 2500\n",
    "maintainance = 500"
   ]
  },
  {
   "cell_type": "code",
   "execution_count": 3,
   "id": "619b9320",
   "metadata": {},
   "outputs": [
    {
     "data": {
      "application/vnd.jupyter.widget-view+json": {
       "model_id": "32075da20ac948f39db748383a39bce6",
       "version_major": 2,
       "version_minor": 0
      },
      "text/plain": [
       "IntSlider(value=100, description='Room Price: ', max=500)"
      ]
     },
     "metadata": {},
     "output_type": "display_data"
    },
    {
     "data": {
      "application/vnd.jupyter.widget-view+json": {
       "model_id": "222e33a3202146b1bc299be84db77a7d",
       "version_major": 2,
       "version_minor": 0
      },
      "text/plain": [
       "IntSlider(value=2, description='Room Count: ', max=50)"
      ]
     },
     "metadata": {},
     "output_type": "display_data"
    }
   ],
   "source": [
    "roomPriceSlider = widgets.IntSlider(\n",
    "    value = 100,\n",
    "    min = 0,\n",
    "    max = 500,\n",
    "    step = 1,\n",
    "    description = 'Room Price: ',\n",
    "    disabled = False,\n",
    "    continous_update = True,\n",
    "    orientiation = 'horizontal',\n",
    "    readout = True,\n",
    "    readout_format = 'd')\n",
    "display(roomPriceSlider)\n",
    "\n",
    "roomCountSlider = widgets.IntSlider(\n",
    "    value = 2,\n",
    "    min = 0,\n",
    "    max = 50,\n",
    "    step = 1,\n",
    "    description = 'Room Count: ',\n",
    "    disabled = False,\n",
    "    continous_update = True,\n",
    "    orientiation = 'horizontal',\n",
    "    readout = True,\n",
    "    readout_format = 'd')\n",
    "display(roomCountSlider)"
   ]
  },
  {
   "cell_type": "code",
   "execution_count": 4,
   "id": "652770f3",
   "metadata": {},
   "outputs": [],
   "source": [
    "roomPrice = roomPriceSlider.value\n",
    "roomCount = roomCountSlider.value"
   ]
  },
  {
   "cell_type": "code",
   "execution_count": 1,
   "id": "bb8cbaa1",
   "metadata": {},
   "outputs": [],
   "source": [
    "def calculateRevenue (roomPrice, roomCount, aviableDays, occupanyRate):\n",
    "    revenue = roomPrice * roomCount * aviableDays * occupanyRate\n",
    "    return revenue\n",
    "    \n",
    "def calculateVariableCost (roomCount, aviableDays, occupanyRate, cleaningFee, unitBill):\n",
    "    variableCost = roomCount * aviableDays * occupanyRate *  (cleaningFee + unitBill)\n",
    "    return variableCost\n",
    "    \n",
    "def calculateFixedCost (rent, maintainance):\n",
    "    return rent + maintainance\n",
    "\n",
    "def calculateProfit (rev, varCost, fCost):\n",
    "    return rev - varCost - fCost\n",
    "\n",
    "def calculateBreakEvenPoint (rev, varCost, fCost):\n",
    "    return fCost/(rev - varCost) #fixed cost/(unit revenue - unit variable cost) & ours is calculated based on 1 month\n",
    "\n",
    "def report(rev, varCost, fCost, profit, breakEven):\n",
    "    format_breakEven = \"{:.2f}\".format(breakEven)\n",
    "    \n",
    "    print(f\"Revenue: {rev} tl\")\n",
    "    print(f\"Variable cost: {varCost} tl\")\n",
    "    print(f\"Fixed Cost: {fCost} tl\")\n",
    "    print(f\"Profit: {profit} tl\")\n",
    "    print(f\"BreakEven Point: {format_breakEven} months\")"
   ]
  },
  {
   "cell_type": "code",
   "execution_count": 6,
   "id": "4424d5d3",
   "metadata": {},
   "outputs": [
    {
     "name": "stdout",
     "output_type": "stream",
     "text": [
      "Revenue: 3600.0 tl\n",
      "Variable Cost: 1980.0 tl\n",
      "Ficed Cost: 3000 tl\n",
      "Profit: -1380.0 tl\n",
      "BreakEven Point: 1.8518518518518519 months\n"
     ]
    }
   ],
   "source": [
    "rev = calculateRevenue(roomPrice, roomCount, aviableDays, occupanyRate)\n",
    "varCost = calculateVariableCost (roomCount, aviableDays, occupanyRate, cleaningFee, unitBill)\n",
    "fCost = calculateFixedCost (rent, maintainance)\n",
    "profit = calculateProfit (rev, varCost, fCost)\n",
    "breakEven = calculateBreakEvenPoint (rev, varCost, fCost)\n",
    "report(rev, varCost, fCost, profit, breakEven)"
   ]
  },
  {
   "cell_type": "code",
   "execution_count": null,
   "id": "02877709",
   "metadata": {},
   "outputs": [],
   "source": []
  }
 ],
 "metadata": {
  "kernelspec": {
   "display_name": "Python 3",
   "language": "python",
   "name": "python3"
  },
  "language_info": {
   "codemirror_mode": {
    "name": "ipython",
    "version": 3
   },
   "file_extension": ".py",
   "mimetype": "text/x-python",
   "name": "python",
   "nbconvert_exporter": "python",
   "pygments_lexer": "ipython3",
   "version": "3.8.8"
  }
 },
 "nbformat": 4,
 "nbformat_minor": 5
}
