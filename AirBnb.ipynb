{
 "cells": [
  {
   "cell_type": "markdown",
   "id": "b641521c",
   "metadata": {},
   "source": [
    "## AirBnb"
   ]
  },
  {
   "cell_type": "code",
   "execution_count": 57,
   "id": "671290e6",
   "metadata": {},
   "outputs": [],
   "source": [
    "from __future__ import print_function\n",
    "from ipywidgets import interact, interactive, fixed, interact_manual\n",
    "from IPython.display import display\n",
    "import ipywidgets as widgets"
   ]
  },
  {
   "cell_type": "code",
   "execution_count": 58,
   "id": "7ed2cd8d",
   "metadata": {},
   "outputs": [],
   "source": [
    "# Define Variables\n",
    "roomPrice = 100\n",
    "roomCount = 1\n",
    "aviableDays = 30\n",
    "occupanyRate = 0.6\n",
    "\n",
    "cleaningFee = 50\n",
    "unitBill = 5\n",
    "\n",
    "#Fixed Cost\n",
    "rent = 2500\n",
    "maintainance = 500"
   ]
  },
  {
   "cell_type": "code",
   "execution_count": 69,
   "id": "619b9320",
   "metadata": {},
   "outputs": [
    {
     "data": {
      "application/vnd.jupyter.widget-view+json": {
       "model_id": "5890fdfccac140c6a371f2972457de19",
       "version_major": 2,
       "version_minor": 0
      },
      "text/plain": [
       "IntSlider(value=100, description='Room Price: ', max=500)"
      ]
     },
     "metadata": {},
     "output_type": "display_data"
    },
    {
     "data": {
      "application/vnd.jupyter.widget-view+json": {
       "model_id": "b7340d44fa9c48e398b6d87ce30046ec",
       "version_major": 2,
       "version_minor": 0
      },
      "text/plain": [
       "IntSlider(value=2, description='Room Count: ', max=50)"
      ]
     },
     "metadata": {},
     "output_type": "display_data"
    },
    {
     "data": {
      "application/vnd.jupyter.widget-view+json": {
       "model_id": "c1d41ea0ff5f4771b540f4884013717e",
       "version_major": 2,
       "version_minor": 0
      },
      "text/plain": [
       "IntSlider(value=28, description='Available Days: ', max=30)"
      ]
     },
     "metadata": {},
     "output_type": "display_data"
    },
    {
     "data": {
      "application/vnd.jupyter.widget-view+json": {
       "model_id": "ec5496c656a54577be11f567cef6a5f7",
       "version_major": 2,
       "version_minor": 0
      },
      "text/plain": [
       "FloatSlider(value=0.1, description='Occupany Rate: ', max=1.0, step=1.0)"
      ]
     },
     "metadata": {},
     "output_type": "display_data"
    }
   ],
   "source": [
    "roomPriceSlider = widgets.IntSlider(\n",
    "    value = 100,\n",
    "    min = 0,\n",
    "    max = 500,\n",
    "    step = 1,\n",
    "    description = 'Room Price: ',\n",
    "    disabled = False,\n",
    "    continous_update = True,\n",
    "    orientiation = 'horizontal',\n",
    "    readout = True,\n",
    "    readout_format = 'd')\n",
    "display(roomPriceSlider)\n",
    "\n",
    "roomCountSlider = widgets.IntSlider(\n",
    "    value = 2,\n",
    "    min = 0,\n",
    "    max = 50,\n",
    "    step = 1,\n",
    "    description = 'Room Count: ',\n",
    "    disabled = False,\n",
    "    continous_update = True,\n",
    "    orientiation = 'horizontal',\n",
    "    readout = True,\n",
    "    readout_format = 'd')\n",
    "display(roomCountSlider)\n",
    "\n",
    "availableDaysSlider = widgets.IntSlider(\n",
    "    value = 28,\n",
    "    min = 0,\n",
    "    max = 30,\n",
    "    step = 1,\n",
    "    description = 'Available Days: ',\n",
    "    disabled = False,\n",
    "    continous_update = True,\n",
    "    orientiation = 'horizontal',\n",
    "    readout = True,\n",
    "    readout_format = 'd')\n",
    "display(availableDaysSlider)\n",
    "\n",
    "occupanyRateSlider = widgets.FloatSlider(\n",
    "    value = 0.1,\n",
    "    min = 0,\n",
    "    max = 1.0,\n",
    "    step = 1,\n",
    "    description = 'Occupany Rate: ',\n",
    "    disabled = False,\n",
    "    continous_update = True,\n",
    "    orientiation = 'horizontal',\n",
    "    readout = True,\n",
    "    readout_format = '.2f')\n",
    "display(occupanyRateSlider)\n"
   ]
  },
  {
   "cell_type": "code",
   "execution_count": 65,
   "id": "0ecb023f",
   "metadata": {},
   "outputs": [],
   "source": [
    "roomPrice = roomPriceSlider.value\n",
    "roomCount = roomCountSlider.value\n",
    "availableDays = availableDaysSlider.value\n",
    "occupanyRate = occupanyRateSlider.value"
   ]
  },
  {
   "cell_type": "code",
   "execution_count": 66,
   "id": "bb8cbaa1",
   "metadata": {},
   "outputs": [],
   "source": [
    "def calculateRevenue (roomPrice, roomCount, aviableDays, occupanyRate):\n",
    "    revenue = roomPrice * roomCount * aviableDays * occupanyRate\n",
    "    return revenue\n",
    "    \n",
    "def calculateVariableCost (roomCount, aviableDays, occupanyRate, cleaningFee, unitBill):\n",
    "    variableCost = roomCount * aviableDays * occupanyRate *  (cleaningFee + unitBill)\n",
    "    return variableCost\n",
    "    \n",
    "def calculateFixedCost (rent, maintainance):\n",
    "    return rent + maintainance\n",
    "\n",
    "def calculateProfit (rev, varCost, fCost):\n",
    "    return rev - varCost - fCost\n",
    "\n",
    "def calculateBreakEvenPoint (rev, varCost, fCost):\n",
    "    return fCost/(rev - varCost) #fixed cost/(unit revenue - unit variable cost) & ours is calculated based on 1 month\n",
    "\n",
    "def report(rev, varCost, fCost, profit, breakEven):\n",
    "    format_breakEven = \"{:.2f}\".format(breakEven)\n",
    "    \n",
    "    print(f\"Revenue: {rev} tl\")\n",
    "    print(f\"Variable cost: {varCost} tl\")\n",
    "    print(f\"Fixed Cost: {fCost} tl\")\n",
    "    print(f\"Profit: {profit} tl\")\n",
    "    print(f\"BreakEven Point: {format_breakEven} months\")\n",
    "\n",
    "def main():\n",
    "    rev = calculateRevenue(roomPrice, roomCount, aviableDays, occupanyRate)\n",
    "    varCost = calculateVariableCost (roomCount, aviableDays, occupanyRate, cleaningFee, unitBill)\n",
    "    fCost = calculateFixedCost (rent, maintainance)\n",
    "    profit = calculateProfit (rev, varCost, fCost)\n",
    "    breakEven = calculateBreakEvenPoint (rev, varCost, fCost)\n",
    "    report(rev, varCost, fCost, profit, breakEven)\n"
   ]
  },
  {
   "cell_type": "code",
   "execution_count": 67,
   "id": "af7af8c1",
   "metadata": {},
   "outputs": [
    {
     "name": "stdout",
     "output_type": "stream",
     "text": [
      "Revenue: 7488.0 tl\n",
      "Variable cost: 1980.0 tl\n",
      "Fixed Cost: 3000 tl\n",
      "Profit: 2508.0 tl\n",
      "BreakEven Point: 0.54 months\n"
     ]
    }
   ],
   "source": [
    "main()"
   ]
  },
  {
   "cell_type": "code",
   "execution_count": null,
   "id": "d5b8e74e",
   "metadata": {},
   "outputs": [],
   "source": []
  }
 ],
 "metadata": {
  "kernelspec": {
   "display_name": "Python 3",
   "language": "python",
   "name": "python3"
  },
  "language_info": {
   "codemirror_mode": {
    "name": "ipython",
    "version": 3
   },
   "file_extension": ".py",
   "mimetype": "text/x-python",
   "name": "python",
   "nbconvert_exporter": "python",
   "pygments_lexer": "ipython3",
   "version": "3.8.8"
  }
 },
 "nbformat": 4,
 "nbformat_minor": 5
}
