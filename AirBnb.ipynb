{
 "cells": [
  {
   "cell_type": "markdown",
   "id": "b641521c",
   "metadata": {},
   "source": [
    "## AirBnb"
   ]
  },
  {
   "cell_type": "code",
   "execution_count": 99,
   "id": "671290e6",
   "metadata": {},
   "outputs": [],
   "source": [
    "from __future__ import print_function\n",
    "from ipywidgets import interact, interactive, fixed, interact_manual\n",
    "from IPython.display import display\n",
    "import ipywidgets as widgets\n",
    "from matplotlib import pyplot as plt"
   ]
  },
  {
   "cell_type": "code",
   "execution_count": 100,
   "id": "7ed2cd8d",
   "metadata": {},
   "outputs": [],
   "source": [
    "# Define Variables\n",
    "roomPrice = 100\n",
    "roomCount = 1\n",
    "aviableDays = 30\n",
    "occupanyRate = 0.6\n",
    "\n",
    "cleaningFee = 50\n",
    "unitBill = 5\n",
    "\n",
    "#Fixed Cost\n",
    "rent = 2500\n",
    "maintainance = 500"
   ]
  },
  {
   "cell_type": "code",
   "execution_count": 101,
   "id": "619b9320",
   "metadata": {},
   "outputs": [
    {
     "data": {
      "application/vnd.jupyter.widget-view+json": {
       "model_id": "f6d547cfd5fc4eaabf72cd9ad7567509",
       "version_major": 2,
       "version_minor": 0
      },
      "text/plain": [
       "IntSlider(value=100, description='Room Price: ', max=500)"
      ]
     },
     "metadata": {},
     "output_type": "display_data"
    },
    {
     "data": {
      "application/vnd.jupyter.widget-view+json": {
       "model_id": "2b15531f8f054216a1fb11ab1f2f3793",
       "version_major": 2,
       "version_minor": 0
      },
      "text/plain": [
       "IntSlider(value=2, description='Room Count: ', max=50)"
      ]
     },
     "metadata": {},
     "output_type": "display_data"
    },
    {
     "data": {
      "application/vnd.jupyter.widget-view+json": {
       "model_id": "b1f9acef525f49c38fd00a5e63a03d91",
       "version_major": 2,
       "version_minor": 0
      },
      "text/plain": [
       "IntSlider(value=28, description='Available Days: ', max=30)"
      ]
     },
     "metadata": {},
     "output_type": "display_data"
    },
    {
     "data": {
      "application/vnd.jupyter.widget-view+json": {
       "model_id": "4e83d390edcc447888232a5a18b14631",
       "version_major": 2,
       "version_minor": 0
      },
      "text/plain": [
       "FloatSlider(value=0.1, description='Occupany Rate: ', max=1.0, step=1.0)"
      ]
     },
     "metadata": {},
     "output_type": "display_data"
    }
   ],
   "source": [
    "roomPriceSlider = widgets.IntSlider(\n",
    "    value = 100,\n",
    "    min = 0,\n",
    "    max = 500,\n",
    "    step = 1,\n",
    "    description = 'Room Price: ',\n",
    "    disabled = False,\n",
    "    continous_update = True,\n",
    "    orientiation = 'horizontal',\n",
    "    readout = True,\n",
    "    readout_format = 'd')\n",
    "display(roomPriceSlider)\n",
    "\n",
    "roomCountSlider = widgets.IntSlider(\n",
    "    value = 2,\n",
    "    min = 0,\n",
    "    max = 50,\n",
    "    step = 1,\n",
    "    description = 'Room Count: ',\n",
    "    disabled = False,\n",
    "    continous_update = True,\n",
    "    orientiation = 'horizontal',\n",
    "    readout = True,\n",
    "    readout_format = 'd')\n",
    "display(roomCountSlider)\n",
    "\n",
    "availableDaysSlider = widgets.IntSlider(\n",
    "    value = 28,\n",
    "    min = 0,\n",
    "    max = 30,\n",
    "    step = 1,\n",
    "    description = 'Available Days: ',\n",
    "    disabled = False,\n",
    "    continous_update = True,\n",
    "    orientiation = 'horizontal',\n",
    "    readout = True,\n",
    "    readout_format = 'd')\n",
    "display(availableDaysSlider)\n",
    "\n",
    "occupanyRateSlider = widgets.FloatSlider(\n",
    "    value = 0.1,\n",
    "    min = 0,\n",
    "    max = 1.0,\n",
    "    step = 1,\n",
    "    description = 'Occupany Rate: ',\n",
    "    disabled = False,\n",
    "    continous_update = True,\n",
    "    orientiation = 'horizontal',\n",
    "    readout = True,\n",
    "    readout_format = '.2f')\n",
    "display(occupanyRateSlider)\n"
   ]
  },
  {
   "cell_type": "code",
   "execution_count": 110,
   "id": "dd7cafee",
   "metadata": {},
   "outputs": [],
   "source": [
    "roomPrice = roomPriceSlider.value\n",
    "roomCount = roomCountSlider.value\n",
    "availableDays = availableDaysSlider.value\n",
    "occupanyRate = occupanyRateSlider.value"
   ]
  },
  {
   "cell_type": "code",
   "execution_count": 111,
   "id": "bb8cbaa1",
   "metadata": {},
   "outputs": [],
   "source": [
    "def calculateRevenue (roomPrice, roomCount, aviableDays, occupanyRate):\n",
    "    revenue = roomPrice * roomCount * aviableDays * occupanyRate\n",
    "    return revenue\n",
    "    \n",
    "def calculateVariableCost (roomCount, aviableDays, occupanyRate, cleaningFee, unitBill):\n",
    "    variableCost = roomCount * aviableDays * occupanyRate *  (cleaningFee + unitBill)\n",
    "    return variableCost\n",
    "    \n",
    "def calculateFixedCost (rent, maintainance):\n",
    "    return rent + maintainance\n",
    "\n",
    "def calculateProfit (rev, varCost, fCost):\n",
    "    return rev - varCost - fCost\n",
    "\n",
    "def calculateBreakEvenPoint (rev, varCost, fCost):\n",
    "    return fCost/(rev - varCost) #fixed cost/(unit revenue - unit variable cost) & ours is calculated based on 1 month\n",
    "\n",
    "def report(rev, varCost, fCost, profit, breakEven):\n",
    "    format_breakEven = \"{:.2f}\".format(breakEven)\n",
    "    \n",
    "    print(f\"Revenue: {rev} tl\")\n",
    "    print(f\"Variable cost: {varCost} tl\")\n",
    "    print(f\"Fixed Cost: {fCost} tl\")\n",
    "    print(f\"Profit: {profit} tl\")\n",
    "    print(f\"BreakEven Point: {format_breakEven} months\")\n",
    "    \n",
    "def unitIncome(roomPrice, roomCount, occupanyRate):\n",
    "    income = roomPrice * roomCount * occupanyRate\n",
    "    return income\n",
    "\n",
    "def unitCost(roomCount, occupanyRate, cleaningFee, unitBill):\n",
    "    unitCost = roomCount * occupanyRate *  (cleaningFee + unitBill)\n",
    "    return unitCost\n",
    "    \n",
    "def breakEvenGraph(unitIncome, unitCost, fCost):\n",
    "    plt.figure(figsize = (15,6))\n",
    "    \n",
    "    dailyCost= [(fCost)]\n",
    "    for day in range(1,30):\n",
    "        dailyCost.append(dailyCost[day-1] + unitCost)\n",
    "        \n",
    "    dailyIncome = [0]\n",
    "    for day in range(1,30):\n",
    "        dailyIncome.append(dailyIncome[day-1] + unitIncome)\n",
    "    \n",
    "    plt.plot(dailyCost)\n",
    "    plt.plot(dailyIncome)\n",
    "    \n",
    "    plt.title(\"AirBnb BreakEven Graph\")\n",
    "    plt.xlabel(\"days\")\n",
    "    plt.ylabel(\"dollar\")\n",
    "    \n",
    "    plt.show()\n",
    "\n",
    "def main():\n",
    "    rev = calculateRevenue(roomPrice, roomCount, aviableDays, occupanyRate)\n",
    "    varCost = calculateVariableCost (roomCount, aviableDays, occupanyRate, cleaningFee, unitBill)\n",
    "    fCost = calculateFixedCost (rent, maintainance)\n",
    "    profit = calculateProfit (rev, varCost, fCost)\n",
    "    breakEven = calculateBreakEvenPoint (rev, varCost, fCost)\n",
    "    report(rev, varCost, fCost, profit, breakEven)\n",
    "    unitIn = unitIncome(roomPrice, roomCount, occupanyRate)\n",
    "    unitC = unitCost(roomCount, occupanyRate, cleaningFee, unitBill)\n",
    "    breakEvenGraph(unitIn, unitC, fCost)\n"
   ]
  },
  {
   "cell_type": "code",
   "execution_count": 112,
   "id": "af7af8c1",
   "metadata": {
    "scrolled": true
   },
   "outputs": [
    {
     "name": "stdout",
     "output_type": "stream",
     "text": [
      "Revenue: 7458.0 tl\n",
      "Variable cost: 1815.0 tl\n",
      "Fixed Cost: 3000 tl\n",
      "Profit: 2643.0 tl\n",
      "BreakEven Point: 0.53 months\n"
     ]
    },
    {
     "ename": "IndexError",
     "evalue": "list index out of range",
     "output_type": "error",
     "traceback": [
      "\u001b[0;31m---------------------------------------------------------------------------\u001b[0m",
      "\u001b[0;31mIndexError\u001b[0m                                Traceback (most recent call last)",
      "\u001b[0;32m<ipython-input-112-263240bbee7e>\u001b[0m in \u001b[0;36m<module>\u001b[0;34m\u001b[0m\n\u001b[0;32m----> 1\u001b[0;31m \u001b[0mmain\u001b[0m\u001b[0;34m(\u001b[0m\u001b[0;34m)\u001b[0m\u001b[0;34m\u001b[0m\u001b[0;34m\u001b[0m\u001b[0m\n\u001b[0m",
      "\u001b[0;32m<ipython-input-111-0d7a3cc8dc61>\u001b[0m in \u001b[0;36mmain\u001b[0;34m()\u001b[0m\n\u001b[1;32m     62\u001b[0m     \u001b[0munitIn\u001b[0m \u001b[0;34m=\u001b[0m \u001b[0munitIncome\u001b[0m\u001b[0;34m(\u001b[0m\u001b[0mroomPrice\u001b[0m\u001b[0;34m,\u001b[0m \u001b[0mroomCount\u001b[0m\u001b[0;34m,\u001b[0m \u001b[0moccupanyRate\u001b[0m\u001b[0;34m)\u001b[0m\u001b[0;34m\u001b[0m\u001b[0;34m\u001b[0m\u001b[0m\n\u001b[1;32m     63\u001b[0m     \u001b[0munitC\u001b[0m \u001b[0;34m=\u001b[0m \u001b[0munitCost\u001b[0m\u001b[0;34m(\u001b[0m\u001b[0mroomCount\u001b[0m\u001b[0;34m,\u001b[0m \u001b[0moccupanyRate\u001b[0m\u001b[0;34m,\u001b[0m \u001b[0mcleaningFee\u001b[0m\u001b[0;34m,\u001b[0m \u001b[0munitBill\u001b[0m\u001b[0;34m)\u001b[0m\u001b[0;34m\u001b[0m\u001b[0;34m\u001b[0m\u001b[0m\n\u001b[0;32m---> 64\u001b[0;31m     \u001b[0mbreakEvenGraph\u001b[0m\u001b[0;34m(\u001b[0m\u001b[0munitIn\u001b[0m\u001b[0;34m,\u001b[0m \u001b[0munitC\u001b[0m\u001b[0;34m,\u001b[0m \u001b[0mfCost\u001b[0m\u001b[0;34m)\u001b[0m\u001b[0;34m\u001b[0m\u001b[0;34m\u001b[0m\u001b[0m\n\u001b[0m",
      "\u001b[0;32m<ipython-input-111-0d7a3cc8dc61>\u001b[0m in \u001b[0;36mbreakEvenGraph\u001b[0;34m(unitIncome, unitCost, fCost)\u001b[0m\n\u001b[1;32m     42\u001b[0m     \u001b[0mdailyIncome\u001b[0m \u001b[0;34m=\u001b[0m \u001b[0;34m[\u001b[0m\u001b[0;34m]\u001b[0m\u001b[0;34m\u001b[0m\u001b[0;34m\u001b[0m\u001b[0m\n\u001b[1;32m     43\u001b[0m     \u001b[0;32mfor\u001b[0m \u001b[0mday\u001b[0m \u001b[0;32min\u001b[0m \u001b[0mrange\u001b[0m\u001b[0;34m(\u001b[0m\u001b[0;36m1\u001b[0m\u001b[0;34m,\u001b[0m\u001b[0;36m30\u001b[0m\u001b[0;34m)\u001b[0m\u001b[0;34m:\u001b[0m\u001b[0;34m\u001b[0m\u001b[0;34m\u001b[0m\u001b[0m\n\u001b[0;32m---> 44\u001b[0;31m         \u001b[0mdailyIncome\u001b[0m\u001b[0;34m.\u001b[0m\u001b[0mappend\u001b[0m\u001b[0;34m(\u001b[0m\u001b[0mdailyIncome\u001b[0m\u001b[0;34m[\u001b[0m\u001b[0mday\u001b[0m\u001b[0;34m-\u001b[0m\u001b[0;36m1\u001b[0m\u001b[0;34m]\u001b[0m \u001b[0;34m+\u001b[0m \u001b[0munitIncome\u001b[0m\u001b[0;34m)\u001b[0m\u001b[0;34m\u001b[0m\u001b[0;34m\u001b[0m\u001b[0m\n\u001b[0m\u001b[1;32m     45\u001b[0m \u001b[0;34m\u001b[0m\u001b[0m\n\u001b[1;32m     46\u001b[0m     \u001b[0mplt\u001b[0m\u001b[0;34m.\u001b[0m\u001b[0mplot\u001b[0m\u001b[0;34m(\u001b[0m\u001b[0mdailyCost\u001b[0m\u001b[0;34m)\u001b[0m\u001b[0;34m\u001b[0m\u001b[0;34m\u001b[0m\u001b[0m\n",
      "\u001b[0;31mIndexError\u001b[0m: list index out of range"
     ]
    },
    {
     "data": {
      "text/plain": [
       "<Figure size 1080x432 with 0 Axes>"
      ]
     },
     "metadata": {},
     "output_type": "display_data"
    }
   ],
   "source": [
    "main()"
   ]
  },
  {
   "cell_type": "code",
   "execution_count": null,
   "id": "cc1a1da1",
   "metadata": {},
   "outputs": [],
   "source": []
  }
 ],
 "metadata": {
  "kernelspec": {
   "display_name": "Python 3",
   "language": "python",
   "name": "python3"
  },
  "language_info": {
   "codemirror_mode": {
    "name": "ipython",
    "version": 3
   },
   "file_extension": ".py",
   "mimetype": "text/x-python",
   "name": "python",
   "nbconvert_exporter": "python",
   "pygments_lexer": "ipython3",
   "version": "3.8.8"
  }
 },
 "nbformat": 4,
 "nbformat_minor": 5
}
